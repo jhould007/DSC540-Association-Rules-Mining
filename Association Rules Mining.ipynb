{
 "cells": [
  {
   "cell_type": "markdown",
   "id": "4f9632fb",
   "metadata": {},
   "source": [
    "# Association Rules Mining\n",
    "By Josh Houlding\n",
    "\n",
    "Data mining is used to locate beneficial information by finding anomalies, patterns, or correlations within data. Association rules mining uses \"if-then\" statements to show the most important relationships between data. Some real-world examples of its use include medical diagnosis, purchasing patterns, consumer website usages, or content recommendation engines.\n",
    "\n",
    "# Part 1\n",
    "\n",
    "To perform association rules analysis/mining, complete the following:\n",
    "1. Access the \"UCI Machine Learning Repository,\" located in the topic Resources. Note: There are about 120 data sets that are suitable for use in a clustering task. For this part of the exercise, you must choose two of these datasets, provided they include at least 10 attributes and 10,000 instances.\n",
    "2. Ensure that the data sets are suitable for clustering using this method.\n",
    "3. You may search for data in other repositories, such as Data.gov or Kaggle.\n",
    "\n",
    "# Part 2\n",
    "\n",
    "For your selected dataset, build a clustering model as follows:\n",
    "1. Explain the dataset and the type of information you wish to extract. Recall that the dataset must consist of transactions of the form If {x1, x2, …, xn} then {y1, y2, …, yk}.\n",
    "2. Explain the Apriori algorithm and how you will be using it in your analysis (list the steps, the intuition behind the mathematical representation, and address its assumptions).\n",
    "3. Identify the appropriate software packages.\n",
    "4. Preprocess the data, describe their characteristics, and visualize key characteristics like popular items and choices.\n",
    "5. Build the clustering model by implementing the Apriori algorithm.\n",
    "6. Run the model (make predictions).\n",
    "7. Display clustering results (quantitative and visual).\n",
    "8. Explain the meaning of each step in the context of the dataset.\n",
    "9. Interpret results and adjust your clustering.\n",
    "10. Validate the model, addressing support, confidence, lift, and conviction. Then, explain the results.\n",
    "\n",
    "# <span style=\"color:#8080ff\">Part 1</span>\n",
    "\n",
    "# Tasks 1.1-1.3\n",
    "\n",
    "<b>1.1:</b><i> Access the \"UCI Machine Learning Repository,\" located in the topic Resources. Note: There are about 120 data sets that are suitable for use in a clustering task. For this part of the exercise, you must choose two of these datasets, provided they include at least 10 attributes and 10,000 instances.</i>\n",
    "\n",
    "<b>1.2:</b><i> Ensure that the data sets are suitable for clustering using this method.</i>\n",
    "\n",
    "<b>1.3:</b><i> You may search for data in other repositories, such as Data.gov or Kaggle.</i>\n",
    "\n",
    "<b>Dataset Selected:</b> \"Bank Marketing\" (UCI Machine Learning Repository) <br>\n",
    "<b>Tagline:</b> \"The data is related with direct marketing campaigns (phone calls) of a Portuguese banking institution. The classification goal is to predict if the client will subscribe a term deposit (variable y).\" <br>\n",
    "<b>Link:</b> https://archive.ics.uci.edu/dataset/222/bank+marketing\n",
    "\n",
    "# <span style=\"color:#1f6635\">Part 2</span>\n",
    "\n",
    "# Task 2.1\n",
    "<i>Explain the dataset and the type of information you wish to extract. Recall that the dataset must consist of transactions of the form If {x1, x2, …, xn} then {y1, y2, …, yk}.</i>\n",
    "\n",
    "The data contains various phone calls made by a Portuguese banking institution to clients, and can be used to predict whether they will subscribe to a term deposit. Each entry in the dataset can be treated as a transaction, and we can mine it for association rules by looking at the relationships between features.\n",
    "\n",
    "# Task 2.2\n",
    "<i>Explain the Apriori algorithm and how you will be using it in your analysis (list the steps, the intuition behind the mathematical representation, and address its assumptions).</i>\n",
    "\n",
    "The Apriori algorithm is a technique used to mine association rules from transactions. These transactions, also known as itemsets, are simply entries in a dataset that each consist of multiple features (items). The algorithm runs through the following procedure: \n",
    "\n",
    "1. A threshold is determined, and the algorithm finds all itemsets that are subsets of at least $k$ itemsets in the dataset. \n",
    "2. Candidate itemsets of length $k$ are generated, and the algorithm then selects the most frequent of these. \n",
    "3. These most frequent itemsets are then used to find association rules. \n",
    "\n",
    "This algorithm makes several assumptions, including that if an itemset is frequent, then all its subsets and supersets will also be frequent. It also assumes that only itemsets that meet or exceed the defined threshold are frequent enough to be worthy of further examination.\n",
    "\n",
    "# Task 2.3\n",
    "<i>Identify the appropriate software packages.</i>\n",
    "\n",
    "The `mlxtend` package is a machine learning Python package that contains useful tools for association rule mining. As such, we will be using it extensively throughout this assignment. Of course, `pandas` will also be instrumental in loading and manipulating the data, and other common libraries like `numpy`, `matplotlib` and `seaborn` will also be useful for common manipulation and visualization tasks. Finally, certain parts of `scikit-learn` such as the `MinMaxScaler` will be useful for normalizing the data before modeling.\n",
    "\n",
    "# Task 2.4\n",
    "<i>Preprocess the data, describe their characteristics, and visualize key characteristics like popular items and choices.</i>\n",
    "\n",
    "### Loading the data"
   ]
  },
  {
   "cell_type": "code",
   "execution_count": 163,
   "id": "0f5ba0de",
   "metadata": {
    "scrolled": true
   },
   "outputs": [
    {
     "name": "stdout",
     "output_type": "stream",
     "text": [
      "Data shape: (45211, 17)\n"
     ]
    },
    {
     "data": {
      "text/html": [
       "<div>\n",
       "<style scoped>\n",
       "    .dataframe tbody tr th:only-of-type {\n",
       "        vertical-align: middle;\n",
       "    }\n",
       "\n",
       "    .dataframe tbody tr th {\n",
       "        vertical-align: top;\n",
       "    }\n",
       "\n",
       "    .dataframe thead th {\n",
       "        text-align: right;\n",
       "    }\n",
       "</style>\n",
       "<table border=\"1\" class=\"dataframe\">\n",
       "  <thead>\n",
       "    <tr style=\"text-align: right;\">\n",
       "      <th></th>\n",
       "      <th>age</th>\n",
       "      <th>job</th>\n",
       "      <th>marital</th>\n",
       "      <th>education</th>\n",
       "      <th>default</th>\n",
       "      <th>balance</th>\n",
       "      <th>housing</th>\n",
       "      <th>loan</th>\n",
       "      <th>contact</th>\n",
       "      <th>day</th>\n",
       "      <th>month</th>\n",
       "      <th>duration</th>\n",
       "      <th>campaign</th>\n",
       "      <th>pdays</th>\n",
       "      <th>previous</th>\n",
       "      <th>poutcome</th>\n",
       "      <th>y</th>\n",
       "    </tr>\n",
       "  </thead>\n",
       "  <tbody>\n",
       "    <tr>\n",
       "      <th>0</th>\n",
       "      <td>58</td>\n",
       "      <td>management</td>\n",
       "      <td>married</td>\n",
       "      <td>tertiary</td>\n",
       "      <td>no</td>\n",
       "      <td>2143</td>\n",
       "      <td>yes</td>\n",
       "      <td>no</td>\n",
       "      <td>unknown</td>\n",
       "      <td>5</td>\n",
       "      <td>may</td>\n",
       "      <td>261</td>\n",
       "      <td>1</td>\n",
       "      <td>-1</td>\n",
       "      <td>0</td>\n",
       "      <td>unknown</td>\n",
       "      <td>no</td>\n",
       "    </tr>\n",
       "    <tr>\n",
       "      <th>1</th>\n",
       "      <td>44</td>\n",
       "      <td>technician</td>\n",
       "      <td>single</td>\n",
       "      <td>secondary</td>\n",
       "      <td>no</td>\n",
       "      <td>29</td>\n",
       "      <td>yes</td>\n",
       "      <td>no</td>\n",
       "      <td>unknown</td>\n",
       "      <td>5</td>\n",
       "      <td>may</td>\n",
       "      <td>151</td>\n",
       "      <td>1</td>\n",
       "      <td>-1</td>\n",
       "      <td>0</td>\n",
       "      <td>unknown</td>\n",
       "      <td>no</td>\n",
       "    </tr>\n",
       "    <tr>\n",
       "      <th>2</th>\n",
       "      <td>33</td>\n",
       "      <td>entrepreneur</td>\n",
       "      <td>married</td>\n",
       "      <td>secondary</td>\n",
       "      <td>no</td>\n",
       "      <td>2</td>\n",
       "      <td>yes</td>\n",
       "      <td>yes</td>\n",
       "      <td>unknown</td>\n",
       "      <td>5</td>\n",
       "      <td>may</td>\n",
       "      <td>76</td>\n",
       "      <td>1</td>\n",
       "      <td>-1</td>\n",
       "      <td>0</td>\n",
       "      <td>unknown</td>\n",
       "      <td>no</td>\n",
       "    </tr>\n",
       "    <tr>\n",
       "      <th>3</th>\n",
       "      <td>47</td>\n",
       "      <td>blue-collar</td>\n",
       "      <td>married</td>\n",
       "      <td>unknown</td>\n",
       "      <td>no</td>\n",
       "      <td>1506</td>\n",
       "      <td>yes</td>\n",
       "      <td>no</td>\n",
       "      <td>unknown</td>\n",
       "      <td>5</td>\n",
       "      <td>may</td>\n",
       "      <td>92</td>\n",
       "      <td>1</td>\n",
       "      <td>-1</td>\n",
       "      <td>0</td>\n",
       "      <td>unknown</td>\n",
       "      <td>no</td>\n",
       "    </tr>\n",
       "    <tr>\n",
       "      <th>4</th>\n",
       "      <td>33</td>\n",
       "      <td>unknown</td>\n",
       "      <td>single</td>\n",
       "      <td>unknown</td>\n",
       "      <td>no</td>\n",
       "      <td>1</td>\n",
       "      <td>no</td>\n",
       "      <td>no</td>\n",
       "      <td>unknown</td>\n",
       "      <td>5</td>\n",
       "      <td>may</td>\n",
       "      <td>198</td>\n",
       "      <td>1</td>\n",
       "      <td>-1</td>\n",
       "      <td>0</td>\n",
       "      <td>unknown</td>\n",
       "      <td>no</td>\n",
       "    </tr>\n",
       "  </tbody>\n",
       "</table>\n",
       "</div>"
      ],
      "text/plain": [
       "   age           job  marital  education default  balance housing loan  \\\n",
       "0   58    management  married   tertiary      no     2143     yes   no   \n",
       "1   44    technician   single  secondary      no       29     yes   no   \n",
       "2   33  entrepreneur  married  secondary      no        2     yes  yes   \n",
       "3   47   blue-collar  married    unknown      no     1506     yes   no   \n",
       "4   33       unknown   single    unknown      no        1      no   no   \n",
       "\n",
       "   contact  day month  duration  campaign  pdays  previous poutcome   y  \n",
       "0  unknown    5   may       261         1     -1         0  unknown  no  \n",
       "1  unknown    5   may       151         1     -1         0  unknown  no  \n",
       "2  unknown    5   may        76         1     -1         0  unknown  no  \n",
       "3  unknown    5   may        92         1     -1         0  unknown  no  \n",
       "4  unknown    5   may       198         1     -1         0  unknown  no  "
      ]
     },
     "execution_count": 163,
     "metadata": {},
     "output_type": "execute_result"
    }
   ],
   "source": [
    "import pandas as pd\n",
    "\n",
    "# Load and view data\n",
    "df = pd.read_csv(\"bank-full.csv\", delimiter=\";\")\n",
    "print(f\"Data shape: {df.shape}\")\n",
    "df.head()"
   ]
  },
  {
   "cell_type": "markdown",
   "id": "0d113c48",
   "metadata": {},
   "source": [
    "`y` is the label for this dataset, which would be necessary for a classification task. However, we are mining association rules using unsupervised machine learning, so it can be removed. "
   ]
  },
  {
   "cell_type": "code",
   "execution_count": 164,
   "id": "201ee832",
   "metadata": {},
   "outputs": [],
   "source": [
    "# Drop label\n",
    "df.drop(columns={\"y\"}, inplace=True)"
   ]
  },
  {
   "cell_type": "markdown",
   "id": "ccc6ba6d",
   "metadata": {},
   "source": [
    "### Variable Information (from UCI ML Repo page)\n",
    "* `age`: How old the client is. \n",
    "* `job`: The type of job the client works (management, blue-collar, technician, retired, etc.) \n",
    "* `marital`: The client's marital status (married, divorced, single). \n",
    "* `education`: The client's education level. \n",
    "* `default`: Whether or not the client has credit in default. \n",
    "* `balance`: The client's average monthly balance in euros. \n",
    "* `housing`: Whether or not the client has a housing loan.\n",
    "* `loan`: Whether or not the client has a personal loan.\n",
    "* `contact`: The type of communication the bank used to contact the client. \n",
    "* `day`: The last day the client was contacted that particular month.\n",
    "* `month`: The last month the client was contacted. \n",
    "* `duration`: The length of the last communication with the client (s). \n",
    "* `campaign`: The number of times the bank contacted the client during the current campaign.\n",
    "* `pdays`: The number of days that have passed since the client was last contacted during a previous campaign. -1 means the client was not previously contacted.\n",
    "* `previous`: The number of times the bank contacted the client before this campaign. \n",
    "* `poutcome`: The outcome of the previous campaign for this particular client (\"success\", \"failure\", \"other\", \"unknown\"). \n",
    "\n",
    "### Renaming columns"
   ]
  },
  {
   "cell_type": "code",
   "execution_count": 165,
   "id": "130f9dd2",
   "metadata": {},
   "outputs": [
    {
     "data": {
      "text/plain": [
       "Index(['age', 'job_type', 'marital', 'education', 'in_default',\n",
       "       'avg_monthly_balance', 'housing_loan', 'personal_loan',\n",
       "       'contact_method', 'day', 'month', 'duration', 'times_contacted',\n",
       "       'days_since_last_contact', 'previous_contact_count',\n",
       "       'previous_campaign_outcome'],\n",
       "      dtype='object')"
      ]
     },
     "execution_count": 165,
     "metadata": {},
     "output_type": "execute_result"
    }
   ],
   "source": [
    "# Create new names for columns\n",
    "new_column_mapping = {\"job\": \"job_type\", \"default\": \"in_default\", \"balance\": \"avg_monthly_balance\",\n",
    "                      \"housing\": \"housing_loan\", \"loan\": \"personal_loan\", \"contact\": \"contact_method\",\n",
    "                      \"campaign\": \"times_contacted\", \"pdays\": \"days_since_last_contact\",\n",
    "                      \"previous\": \"previous_contact_count\", \"poutcome\": \"previous_campaign_outcome\"}\n",
    "\n",
    "# Apply mapping to dataframe\n",
    "df.rename(columns=new_column_mapping, inplace=True)\n",
    "\n",
    "# Show new column names\n",
    "df.columns"
   ]
  },
  {
   "cell_type": "markdown",
   "id": "d4b0c83e",
   "metadata": {},
   "source": [
    "### Showing dataset info"
   ]
  },
  {
   "cell_type": "code",
   "execution_count": 166,
   "id": "437e5fe2",
   "metadata": {},
   "outputs": [
    {
     "name": "stdout",
     "output_type": "stream",
     "text": [
      "<class 'pandas.core.frame.DataFrame'>\n",
      "RangeIndex: 45211 entries, 0 to 45210\n",
      "Data columns (total 16 columns):\n",
      " #   Column                     Non-Null Count  Dtype \n",
      "---  ------                     --------------  ----- \n",
      " 0   age                        45211 non-null  int64 \n",
      " 1   job_type                   45211 non-null  object\n",
      " 2   marital                    45211 non-null  object\n",
      " 3   education                  45211 non-null  object\n",
      " 4   in_default                 45211 non-null  object\n",
      " 5   avg_monthly_balance        45211 non-null  int64 \n",
      " 6   housing_loan               45211 non-null  object\n",
      " 7   personal_loan              45211 non-null  object\n",
      " 8   contact_method             45211 non-null  object\n",
      " 9   day                        45211 non-null  int64 \n",
      " 10  month                      45211 non-null  object\n",
      " 11  duration                   45211 non-null  int64 \n",
      " 12  times_contacted            45211 non-null  int64 \n",
      " 13  days_since_last_contact    45211 non-null  int64 \n",
      " 14  previous_contact_count     45211 non-null  int64 \n",
      " 15  previous_campaign_outcome  45211 non-null  object\n",
      "dtypes: int64(7), object(9)\n",
      "memory usage: 5.5+ MB\n"
     ]
    }
   ],
   "source": [
    "df.info()"
   ]
  },
  {
   "cell_type": "markdown",
   "id": "bf464987",
   "metadata": {},
   "source": [
    "There are quite a few `object` columns in the data that will need to be converted to a numeric format before modeling can take place."
   ]
  },
  {
   "cell_type": "markdown",
   "id": "9cd7f27b",
   "metadata": {},
   "source": [
    "### Describing numeric columns"
   ]
  },
  {
   "cell_type": "code",
   "execution_count": 167,
   "id": "ad6b59d7",
   "metadata": {},
   "outputs": [
    {
     "data": {
      "text/html": [
       "<div>\n",
       "<style scoped>\n",
       "    .dataframe tbody tr th:only-of-type {\n",
       "        vertical-align: middle;\n",
       "    }\n",
       "\n",
       "    .dataframe tbody tr th {\n",
       "        vertical-align: top;\n",
       "    }\n",
       "\n",
       "    .dataframe thead th {\n",
       "        text-align: right;\n",
       "    }\n",
       "</style>\n",
       "<table border=\"1\" class=\"dataframe\">\n",
       "  <thead>\n",
       "    <tr style=\"text-align: right;\">\n",
       "      <th></th>\n",
       "      <th>age</th>\n",
       "      <th>avg_monthly_balance</th>\n",
       "      <th>day</th>\n",
       "      <th>duration</th>\n",
       "      <th>times_contacted</th>\n",
       "      <th>days_since_last_contact</th>\n",
       "      <th>previous_contact_count</th>\n",
       "    </tr>\n",
       "  </thead>\n",
       "  <tbody>\n",
       "    <tr>\n",
       "      <th>count</th>\n",
       "      <td>45211.00</td>\n",
       "      <td>45211.00</td>\n",
       "      <td>45211.00</td>\n",
       "      <td>45211.00</td>\n",
       "      <td>45211.00</td>\n",
       "      <td>45211.00</td>\n",
       "      <td>45211.00</td>\n",
       "    </tr>\n",
       "    <tr>\n",
       "      <th>mean</th>\n",
       "      <td>40.94</td>\n",
       "      <td>1362.27</td>\n",
       "      <td>15.81</td>\n",
       "      <td>258.16</td>\n",
       "      <td>2.76</td>\n",
       "      <td>40.20</td>\n",
       "      <td>0.58</td>\n",
       "    </tr>\n",
       "    <tr>\n",
       "      <th>std</th>\n",
       "      <td>10.62</td>\n",
       "      <td>3044.77</td>\n",
       "      <td>8.32</td>\n",
       "      <td>257.53</td>\n",
       "      <td>3.10</td>\n",
       "      <td>100.13</td>\n",
       "      <td>2.30</td>\n",
       "    </tr>\n",
       "    <tr>\n",
       "      <th>min</th>\n",
       "      <td>18.00</td>\n",
       "      <td>-8019.00</td>\n",
       "      <td>1.00</td>\n",
       "      <td>0.00</td>\n",
       "      <td>1.00</td>\n",
       "      <td>-1.00</td>\n",
       "      <td>0.00</td>\n",
       "    </tr>\n",
       "    <tr>\n",
       "      <th>25%</th>\n",
       "      <td>33.00</td>\n",
       "      <td>72.00</td>\n",
       "      <td>8.00</td>\n",
       "      <td>103.00</td>\n",
       "      <td>1.00</td>\n",
       "      <td>-1.00</td>\n",
       "      <td>0.00</td>\n",
       "    </tr>\n",
       "    <tr>\n",
       "      <th>50%</th>\n",
       "      <td>39.00</td>\n",
       "      <td>448.00</td>\n",
       "      <td>16.00</td>\n",
       "      <td>180.00</td>\n",
       "      <td>2.00</td>\n",
       "      <td>-1.00</td>\n",
       "      <td>0.00</td>\n",
       "    </tr>\n",
       "    <tr>\n",
       "      <th>75%</th>\n",
       "      <td>48.00</td>\n",
       "      <td>1428.00</td>\n",
       "      <td>21.00</td>\n",
       "      <td>319.00</td>\n",
       "      <td>3.00</td>\n",
       "      <td>-1.00</td>\n",
       "      <td>0.00</td>\n",
       "    </tr>\n",
       "    <tr>\n",
       "      <th>max</th>\n",
       "      <td>95.00</td>\n",
       "      <td>102127.00</td>\n",
       "      <td>31.00</td>\n",
       "      <td>4918.00</td>\n",
       "      <td>63.00</td>\n",
       "      <td>871.00</td>\n",
       "      <td>275.00</td>\n",
       "    </tr>\n",
       "  </tbody>\n",
       "</table>\n",
       "</div>"
      ],
      "text/plain": [
       "            age  avg_monthly_balance       day  duration  times_contacted  \\\n",
       "count  45211.00             45211.00  45211.00  45211.00         45211.00   \n",
       "mean      40.94              1362.27     15.81    258.16             2.76   \n",
       "std       10.62              3044.77      8.32    257.53             3.10   \n",
       "min       18.00             -8019.00      1.00      0.00             1.00   \n",
       "25%       33.00                72.00      8.00    103.00             1.00   \n",
       "50%       39.00               448.00     16.00    180.00             2.00   \n",
       "75%       48.00              1428.00     21.00    319.00             3.00   \n",
       "max       95.00            102127.00     31.00   4918.00            63.00   \n",
       "\n",
       "       days_since_last_contact  previous_contact_count  \n",
       "count                 45211.00                45211.00  \n",
       "mean                     40.20                    0.58  \n",
       "std                     100.13                    2.30  \n",
       "min                      -1.00                    0.00  \n",
       "25%                      -1.00                    0.00  \n",
       "50%                      -1.00                    0.00  \n",
       "75%                      -1.00                    0.00  \n",
       "max                     871.00                  275.00  "
      ]
     },
     "execution_count": 167,
     "metadata": {},
     "output_type": "execute_result"
    }
   ],
   "source": [
    "df.describe().round(2)"
   ]
  },
  {
   "cell_type": "markdown",
   "id": "de7a17be",
   "metadata": {},
   "source": [
    "The \"average\" client is 41 years old, has an average monthly balance of <span>~&euro;1,362</span>, and was spoken to by the bank for 258 seconds (just over 4 minutes). \n",
    "\n",
    "### Removing duplicates"
   ]
  },
  {
   "cell_type": "code",
   "execution_count": 168,
   "id": "a26cb9f1",
   "metadata": {
    "scrolled": true
   },
   "outputs": [
    {
     "name": "stdout",
     "output_type": "stream",
     "text": [
      "Number of duplicate rows: 0\n"
     ]
    }
   ],
   "source": [
    "# Find number of duplicate rows\n",
    "print(f\"Number of duplicate rows: {df.duplicated().sum()}\")"
   ]
  },
  {
   "cell_type": "markdown",
   "id": "42fad250",
   "metadata": {},
   "source": [
    "Duplicate rows will not be an issue for this data. \n",
    "\n",
    "### Handling missing values"
   ]
  },
  {
   "cell_type": "code",
   "execution_count": 169,
   "id": "6c2f3cf1",
   "metadata": {
    "scrolled": false
   },
   "outputs": [
    {
     "name": "stdout",
     "output_type": "stream",
     "text": [
      "Number of rows with missing values: 0\n",
      "Total number of rows: 45211\n"
     ]
    }
   ],
   "source": [
    "# Find number of rows with missing values\n",
    "print(f\"Number of rows with missing values: {df.isna().any(axis=1).sum()}\")\n",
    "print(f\"Total number of rows: {len(df)}\")"
   ]
  },
  {
   "cell_type": "markdown",
   "id": "233398e4",
   "metadata": {},
   "source": [
    "There are no `NaN` values present in the data, but our examination of the head of the dataset earlier showed that many \"unknown\" values are present. Thus, these need to be dealt with to make the data as complete as possible."
   ]
  },
  {
   "cell_type": "code",
   "execution_count": 170,
   "id": "aedeef8f",
   "metadata": {
    "scrolled": false
   },
   "outputs": [
    {
     "name": "stdout",
     "output_type": "stream",
     "text": [
      "Missing variable count by column:\n",
      "age                              0\n",
      "job_type                       288\n",
      "marital                          0\n",
      "education                     1857\n",
      "in_default                       0\n",
      "avg_monthly_balance              0\n",
      "housing_loan                     0\n",
      "personal_loan                    0\n",
      "contact_method               13020\n",
      "day                              0\n",
      "month                            0\n",
      "duration                         0\n",
      "times_contacted                  0\n",
      "days_since_last_contact          0\n",
      "previous_contact_count           0\n",
      "previous_campaign_outcome    36959\n",
      "dtype: int64\n"
     ]
    }
   ],
   "source": [
    "import numpy as np\n",
    "\n",
    "# Ensure all text data is lowercase\n",
    "object_columns = df.select_dtypes(include=[\"object\"]).columns\n",
    "for col in object_columns: \n",
    "    df[col] = df[col].str.lower()\n",
    "    \n",
    "# Replace all \"unknown\" values with NaN\n",
    "df.replace(\"unknown\", np.nan, inplace=True)\n",
    "\n",
    "# Find the number of missing values in each column\n",
    "print(\"Missing variable count by column:\")\n",
    "print(df.isna().sum())"
   ]
  },
  {
   "cell_type": "markdown",
   "id": "3f413060",
   "metadata": {},
   "source": [
    "We see that `job_type`, `education`, `contact_method`, and `previous_campaign_outcome` are responsible for the missing values. Each should be treated according to what proportion of its values are missing. First of all, `previous_campaign_outcome` has so many missing values that it should be outright dropped. Let's take a look at the value counts for the remaining 3 columns to determine what should be done."
   ]
  },
  {
   "cell_type": "code",
   "execution_count": 171,
   "id": "fee07cd7",
   "metadata": {},
   "outputs": [
    {
     "name": "stdout",
     "output_type": "stream",
     "text": [
      "job_type\n",
      "blue-collar      9732\n",
      "management       9458\n",
      "technician       7597\n",
      "admin.           5171\n",
      "services         4154\n",
      "retired          2264\n",
      "self-employed    1579\n",
      "entrepreneur     1487\n",
      "unemployed       1303\n",
      "housemaid        1240\n",
      "student           938\n",
      "Name: count, dtype: int64 \n",
      "\n",
      "education\n",
      "secondary    23202\n",
      "tertiary     13301\n",
      "primary       6851\n",
      "Name: count, dtype: int64 \n",
      "\n",
      "contact_method\n",
      "cellular     29285\n",
      "telephone     2906\n",
      "Name: count, dtype: int64 \n",
      "\n"
     ]
    }
   ],
   "source": [
    "# Drop \"previous_campaign_outcome\" due to large number of missing values\n",
    "df.drop(columns={\"previous_campaign_outcome\"}, inplace=True)\n",
    "\n",
    "# Show value counts of each column with missing values\n",
    "missing_columns = [\"job_type\", \"education\", \"contact_method\"]\n",
    "for col in missing_columns: \n",
    "    print(df[col].value_counts(), \"\\n\")"
   ]
  },
  {
   "cell_type": "markdown",
   "id": "08cbe7af",
   "metadata": {},
   "source": [
    "We see a somewhat-even spread of job types, so missing values in `job_type` should be filled with a random selection from the top 3 values (\"blue-collar\", \"management\", and \"technician\"). Then, `education` and `contact_method` should be filled in according to the proportions in which their values occur (eg. about 90% of values for `contact_method` are \"cellular\", so for a given missing value, there should be a 90% chance of filling in \"cellular\" and a 10% chance of filling in \"telephone\"). "
   ]
  },
  {
   "cell_type": "code",
   "execution_count": 172,
   "id": "d9f4b395",
   "metadata": {
    "scrolled": true
   },
   "outputs": [
    {
     "name": "stdout",
     "output_type": "stream",
     "text": [
      "Number of rows with missing values: 0\n"
     ]
    }
   ],
   "source": [
    "# Set random seed for consistency of results\n",
    "np.random.seed(42)\n",
    "\n",
    "# Fill in missing \"job_type\" values\n",
    "df[\"job_type\"] = np.random.choice([\"blue-collar\", \"management\", \"technician\"], size=len(df), replace=True)\n",
    "\n",
    "# Fill in missing \"education\" values\n",
    "education_probs = [0.54, 0.31, 0.15]\n",
    "df[\"education\"] = np.random.choice([\"secondary\", \"tertiary\", \"primary\"], size=len(df), p=education_probs, replace=True)\n",
    "\n",
    "# Fill in missing \"contact_method\" values\n",
    "contact_probs = [0.91, 0.09]\n",
    "df[\"contact_method\"] = np.random.choice([\"cellular\", \"telephone\"], size=len(df), p=contact_probs, replace=True)\n",
    "\n",
    "# Recheck number of rows with missing values\n",
    "print(f\"Number of rows with missing values: {df.isna().any(axis=1).sum()}\")"
   ]
  },
  {
   "cell_type": "markdown",
   "id": "ac787605",
   "metadata": {},
   "source": [
    "### Converting data types\n",
    "All `object` columns need to be converted to a numeric format so they can be used in modeling. This includes `marital`, `education`, `in_default`, `housing_loan`, `personal_loan`, `contact_method`, and `month`. The following encoding techniques are appropriate for each column based on its values: \n",
    "\n",
    "* <b>Binary columns</b> `in_default`, `housing_loan`, `personal_loan`: Label encoding\n",
    "* <b>Nominal columns</b> `job_type`, `marital`, `contact_method`: One-hot encoding\n",
    "* <b>Ordinal columns</b> `education` and `month`: Label encoding"
   ]
  },
  {
   "cell_type": "code",
   "execution_count": 173,
   "id": "2acd5ee3",
   "metadata": {
    "scrolled": true
   },
   "outputs": [
    {
     "data": {
      "text/plain": [
       "int32    14\n",
       "int64     8\n",
       "Name: count, dtype: int64"
      ]
     },
     "execution_count": 173,
     "metadata": {},
     "output_type": "execute_result"
    }
   ],
   "source": [
    "# Select categorical columns\n",
    "binary_columns = [\"in_default\", \"housing_loan\", \"personal_loan\"]\n",
    "nominal_columns = [\"job_type\", \"marital\", \"education\", \"contact_method\"]\n",
    "ordinal_columns = [\"education\", \"month\"]\n",
    "\n",
    "# Apply label encoding to binary columns\n",
    "for col in binary_columns: \n",
    "    df[col] = np.where(df[col] == \"no\", 0, 1)\n",
    "\n",
    "# Encode \"month\" into numeric format    \n",
    "month_mapping = {\"jan\": 1, \"feb\": 2, \"mar\": 3, \"apr\": 4, \"may\": 5, \"jun\": 6, \"jul\": 7, \"aug\": 8, \"sep\": 9, \"oct\": 10, \n",
    "\"nov\": 11, \"dec\": 12}\n",
    "df[\"month\"] = df[\"month\"].map(month_mapping)\n",
    "    \n",
    "# Apply one-hot encoding to other columns\n",
    "df = pd.get_dummies(df, columns=nominal_columns, drop_first=False)\n",
    "\n",
    "# Convert bool columns to int\n",
    "for col in df.columns:\n",
    "    if df[col].dtype == \"bool\": \n",
    "        df[col] = df[col].astype(int)\n",
    "        \n",
    "# Display new data type counts\n",
    "df.dtypes.value_counts()"
   ]
  },
  {
   "cell_type": "markdown",
   "id": "6f22599d",
   "metadata": {},
   "source": [
    "### Normalizing features"
   ]
  },
  {
   "cell_type": "code",
   "execution_count": 174,
   "id": "e29a0136",
   "metadata": {
    "scrolled": true
   },
   "outputs": [
    {
     "data": {
      "text/html": [
       "<div>\n",
       "<style scoped>\n",
       "    .dataframe tbody tr th:only-of-type {\n",
       "        vertical-align: middle;\n",
       "    }\n",
       "\n",
       "    .dataframe tbody tr th {\n",
       "        vertical-align: top;\n",
       "    }\n",
       "\n",
       "    .dataframe thead th {\n",
       "        text-align: right;\n",
       "    }\n",
       "</style>\n",
       "<table border=\"1\" class=\"dataframe\">\n",
       "  <thead>\n",
       "    <tr style=\"text-align: right;\">\n",
       "      <th></th>\n",
       "      <th>age</th>\n",
       "      <th>in_default</th>\n",
       "      <th>avg_monthly_balance</th>\n",
       "      <th>housing_loan</th>\n",
       "      <th>personal_loan</th>\n",
       "      <th>day</th>\n",
       "      <th>month</th>\n",
       "      <th>duration</th>\n",
       "      <th>times_contacted</th>\n",
       "      <th>days_since_last_contact</th>\n",
       "      <th>...</th>\n",
       "      <th>job_type_management</th>\n",
       "      <th>job_type_technician</th>\n",
       "      <th>marital_divorced</th>\n",
       "      <th>marital_married</th>\n",
       "      <th>marital_single</th>\n",
       "      <th>education_primary</th>\n",
       "      <th>education_secondary</th>\n",
       "      <th>education_tertiary</th>\n",
       "      <th>contact_method_cellular</th>\n",
       "      <th>contact_method_telephone</th>\n",
       "    </tr>\n",
       "  </thead>\n",
       "  <tbody>\n",
       "    <tr>\n",
       "      <th>0</th>\n",
       "      <td>0.519481</td>\n",
       "      <td>0</td>\n",
       "      <td>0.092259</td>\n",
       "      <td>1</td>\n",
       "      <td>0</td>\n",
       "      <td>0.133333</td>\n",
       "      <td>0.363636</td>\n",
       "      <td>0.053070</td>\n",
       "      <td>0.0</td>\n",
       "      <td>0.0</td>\n",
       "      <td>...</td>\n",
       "      <td>0</td>\n",
       "      <td>1</td>\n",
       "      <td>0</td>\n",
       "      <td>1</td>\n",
       "      <td>0</td>\n",
       "      <td>1</td>\n",
       "      <td>0</td>\n",
       "      <td>0</td>\n",
       "      <td>1</td>\n",
       "      <td>0</td>\n",
       "    </tr>\n",
       "    <tr>\n",
       "      <th>1</th>\n",
       "      <td>0.337662</td>\n",
       "      <td>0</td>\n",
       "      <td>0.073067</td>\n",
       "      <td>1</td>\n",
       "      <td>0</td>\n",
       "      <td>0.133333</td>\n",
       "      <td>0.363636</td>\n",
       "      <td>0.030704</td>\n",
       "      <td>0.0</td>\n",
       "      <td>0.0</td>\n",
       "      <td>...</td>\n",
       "      <td>0</td>\n",
       "      <td>0</td>\n",
       "      <td>0</td>\n",
       "      <td>0</td>\n",
       "      <td>1</td>\n",
       "      <td>0</td>\n",
       "      <td>1</td>\n",
       "      <td>0</td>\n",
       "      <td>1</td>\n",
       "      <td>0</td>\n",
       "    </tr>\n",
       "    <tr>\n",
       "      <th>2</th>\n",
       "      <td>0.194805</td>\n",
       "      <td>0</td>\n",
       "      <td>0.072822</td>\n",
       "      <td>1</td>\n",
       "      <td>1</td>\n",
       "      <td>0.133333</td>\n",
       "      <td>0.363636</td>\n",
       "      <td>0.015453</td>\n",
       "      <td>0.0</td>\n",
       "      <td>0.0</td>\n",
       "      <td>...</td>\n",
       "      <td>0</td>\n",
       "      <td>1</td>\n",
       "      <td>0</td>\n",
       "      <td>1</td>\n",
       "      <td>0</td>\n",
       "      <td>1</td>\n",
       "      <td>0</td>\n",
       "      <td>0</td>\n",
       "      <td>0</td>\n",
       "      <td>1</td>\n",
       "    </tr>\n",
       "    <tr>\n",
       "      <th>3</th>\n",
       "      <td>0.376623</td>\n",
       "      <td>0</td>\n",
       "      <td>0.086476</td>\n",
       "      <td>1</td>\n",
       "      <td>0</td>\n",
       "      <td>0.133333</td>\n",
       "      <td>0.363636</td>\n",
       "      <td>0.018707</td>\n",
       "      <td>0.0</td>\n",
       "      <td>0.0</td>\n",
       "      <td>...</td>\n",
       "      <td>0</td>\n",
       "      <td>1</td>\n",
       "      <td>0</td>\n",
       "      <td>1</td>\n",
       "      <td>0</td>\n",
       "      <td>1</td>\n",
       "      <td>0</td>\n",
       "      <td>0</td>\n",
       "      <td>1</td>\n",
       "      <td>0</td>\n",
       "    </tr>\n",
       "    <tr>\n",
       "      <th>4</th>\n",
       "      <td>0.194805</td>\n",
       "      <td>0</td>\n",
       "      <td>0.072812</td>\n",
       "      <td>0</td>\n",
       "      <td>0</td>\n",
       "      <td>0.133333</td>\n",
       "      <td>0.363636</td>\n",
       "      <td>0.040260</td>\n",
       "      <td>0.0</td>\n",
       "      <td>0.0</td>\n",
       "      <td>...</td>\n",
       "      <td>0</td>\n",
       "      <td>0</td>\n",
       "      <td>0</td>\n",
       "      <td>0</td>\n",
       "      <td>1</td>\n",
       "      <td>0</td>\n",
       "      <td>1</td>\n",
       "      <td>0</td>\n",
       "      <td>1</td>\n",
       "      <td>0</td>\n",
       "    </tr>\n",
       "  </tbody>\n",
       "</table>\n",
       "<p>5 rows × 22 columns</p>\n",
       "</div>"
      ],
      "text/plain": [
       "        age  in_default  avg_monthly_balance  housing_loan  personal_loan  \\\n",
       "0  0.519481           0             0.092259             1              0   \n",
       "1  0.337662           0             0.073067             1              0   \n",
       "2  0.194805           0             0.072822             1              1   \n",
       "3  0.376623           0             0.086476             1              0   \n",
       "4  0.194805           0             0.072812             0              0   \n",
       "\n",
       "        day     month  duration  times_contacted  days_since_last_contact  \\\n",
       "0  0.133333  0.363636  0.053070              0.0                      0.0   \n",
       "1  0.133333  0.363636  0.030704              0.0                      0.0   \n",
       "2  0.133333  0.363636  0.015453              0.0                      0.0   \n",
       "3  0.133333  0.363636  0.018707              0.0                      0.0   \n",
       "4  0.133333  0.363636  0.040260              0.0                      0.0   \n",
       "\n",
       "   ...  job_type_management  job_type_technician  marital_divorced  \\\n",
       "0  ...                    0                    1                 0   \n",
       "1  ...                    0                    0                 0   \n",
       "2  ...                    0                    1                 0   \n",
       "3  ...                    0                    1                 0   \n",
       "4  ...                    0                    0                 0   \n",
       "\n",
       "   marital_married  marital_single  education_primary  education_secondary  \\\n",
       "0                1               0                  1                    0   \n",
       "1                0               1                  0                    1   \n",
       "2                1               0                  1                    0   \n",
       "3                1               0                  1                    0   \n",
       "4                0               1                  0                    1   \n",
       "\n",
       "   education_tertiary  contact_method_cellular  contact_method_telephone  \n",
       "0                   0                        1                         0  \n",
       "1                   0                        1                         0  \n",
       "2                   0                        0                         1  \n",
       "3                   0                        1                         0  \n",
       "4                   0                        1                         0  \n",
       "\n",
       "[5 rows x 22 columns]"
      ]
     },
     "execution_count": 174,
     "metadata": {},
     "output_type": "execute_result"
    }
   ],
   "source": [
    "from sklearn.preprocessing import MinMaxScaler\n",
    "\n",
    "# Normalize numeric variables not already on [0, 1] scale\n",
    "scaler = MinMaxScaler()\n",
    "cols_to_normalize = [\"age\", \"avg_monthly_balance\", \"day\", \"month\", \"duration\", \"times_contacted\", \"days_since_last_contact\",\n",
    "                     \"previous_contact_count\"]\n",
    "df[cols_to_normalize] = scaler.fit_transform(df[cols_to_normalize])\n",
    "\n",
    "df.head()"
   ]
  },
  {
   "cell_type": "markdown",
   "id": "a85e2b4e",
   "metadata": {},
   "source": [
    "The data is now ready to be mined for association rules.\n",
    "\n",
    "# Task 2.5\n",
    "<i>Build the clustering model by implementing the Apriori algorithm.</i>\n",
    "\n",
    "The Apriori algorithm cannot be used for clustering, only for finding frequent itemsets and association rules, so we will take the approach of clustering the data using k-means first, then applying Apriori to each cluster to mine frequent itemsets and association rules.\n",
    "\n",
    "To start, we will apply the Elbow Method to determine the optimal number of clusters, $k$. \n",
    "\n",
    "### Finding optimal number of clusters"
   ]
  },
  {
   "cell_type": "code",
   "execution_count": 175,
   "id": "b3069c18",
   "metadata": {},
   "outputs": [
    {
     "data": {
      "image/png": "[encoded data removed]",
      "text/plain": [
       "<Figure size 1000x600 with 1 Axes>"
      ]
     },
     "metadata": {},
     "output_type": "display_data"
    }
   ],
   "source": [
    "from sklearn.cluster import KMeans\n",
    "import matplotlib.pyplot as plt\n",
    "\n",
    "# Define range of k-values to test\n",
    "k_vals = range(1, 11)\n",
    "inertia = []\n",
    "\n",
    "# Calculate inertia for each k-value\n",
    "for k in k_vals: \n",
    "    kmeans = KMeans(n_clusters=k, random_state=42)\n",
    "    kmeans.fit(df)\n",
    "    inertia.append(kmeans.inertia_)\n",
    "    \n",
    "# Plot inertia values\n",
    "plt.figure(figsize=(10, 6))\n",
    "plt.plot(k_vals, inertia, marker=\"x\")\n",
    "plt.xlabel(\"Number of Clusters (k)\")\n",
    "plt.ylabel(\"Inertia (WCSS)\")\n",
    "plt.title(\"Elbow Method to Find Optimal k\")\n",
    "plt.show()"
   ]
  },
  {
   "cell_type": "markdown",
   "id": "e44aa1c9",
   "metadata": {},
   "source": [
    "$k=2$ and $k=4$ would both be reasonable choices for $k$, but $k=4$ would provide more granularity in clustering, and so we will go with that.\n",
    "\n",
    "### Running k-means clustering"
   ]
  },
  {
   "cell_type": "code",
   "execution_count": 176,
   "id": "7b8f4a32",
   "metadata": {},
   "outputs": [
    {
     "data": {
      "text/html": [
       "<div>\n",
       "<style scoped>\n",
       "    .dataframe tbody tr th:only-of-type {\n",
       "        vertical-align: middle;\n",
       "    }\n",
       "\n",
       "    .dataframe tbody tr th {\n",
       "        vertical-align: top;\n",
       "    }\n",
       "\n",
       "    .dataframe thead th {\n",
       "        text-align: right;\n",
       "    }\n",
       "</style>\n",
       "<table border=\"1\" class=\"dataframe\">\n",
       "  <thead>\n",
       "    <tr style=\"text-align: right;\">\n",
       "      <th></th>\n",
       "      <th>cluster</th>\n",
       "      <th>count</th>\n",
       "    </tr>\n",
       "  </thead>\n",
       "  <tbody>\n",
       "    <tr>\n",
       "      <th>0</th>\n",
       "      <td>0</td>\n",
       "      <td>15973</td>\n",
       "    </tr>\n",
       "    <tr>\n",
       "      <th>1</th>\n",
       "      <td>1</td>\n",
       "      <td>5207</td>\n",
       "    </tr>\n",
       "    <tr>\n",
       "      <th>2</th>\n",
       "      <td>2</td>\n",
       "      <td>11241</td>\n",
       "    </tr>\n",
       "    <tr>\n",
       "      <th>3</th>\n",
       "      <td>3</td>\n",
       "      <td>12790</td>\n",
       "    </tr>\n",
       "  </tbody>\n",
       "</table>\n",
       "</div>"
      ],
      "text/plain": [
       "   cluster  count\n",
       "0        0  15973\n",
       "1        1   5207\n",
       "2        2  11241\n",
       "3        3  12790"
      ]
     },
     "execution_count": 176,
     "metadata": {},
     "output_type": "execute_result"
    }
   ],
   "source": [
    "# Define optimal k\n",
    "k = 4\n",
    "\n",
    "# Run k-means clustering and assign each entry to a cluster\n",
    "kmeans = KMeans(n_clusters=k, random_state=42)\n",
    "df[\"cluster\"] = kmeans.fit_predict(df)\n",
    "\n",
    "# Show cluster sizes\n",
    "cluster_sizes = df[\"cluster\"].value_counts().to_frame()\n",
    "cluster_sizes = cluster_sizes.sort_values(by=\"cluster\", ascending=True)\n",
    "cluster_sizes = cluster_sizes.reset_index()\n",
    "cluster_sizes"
   ]
  },
  {
   "cell_type": "markdown",
   "id": "4bd36ae1",
   "metadata": {},
   "source": [
    "### Visualizing clustering results\n",
    "First, the dimensionality of the data must be reduced to 2 using PCA."
   ]
  },
  {
   "cell_type": "code",
   "execution_count": 177,
   "id": "1d26b618",
   "metadata": {
    "scrolled": true
   },
   "outputs": [
    {
     "name": "stderr",
     "output_type": "stream",
     "text": [
      "C:\\Users\\jdh10\\anaconda3\\Lib\\site-packages\\sklearn\\base.py:493: UserWarning: X does not have valid feature names, but PCA was fitted with feature names\n",
      "  warnings.warn(\n"
     ]
    }
   ],
   "source": [
    "from sklearn.decomposition import PCA\n",
    "import seaborn as sns\n",
    "\n",
    "# Reduce dimensionality of data\n",
    "pca = PCA(n_components=2, random_state=42)\n",
    "df_pca = pca.fit_transform(df.drop(\"cluster\", axis=1))\n",
    "\n",
    "# Store PCA results and cluster labels\n",
    "df_pca = pd.DataFrame(data=df_pca, columns=[\"PC1\", \"PC2\"])\n",
    "df_pca[\"cluster\"] = df[\"cluster\"]\n",
    "\n",
    "# Define cluster centers\n",
    "centers = pca.transform(kmeans.cluster_centers_)"
   ]
  },
  {
   "cell_type": "markdown",
   "id": "02be1910",
   "metadata": {},
   "source": [
    "Then, the clustering results can be visualized in a scatterplot:"
   ]
  },
  {
   "cell_type": "code",
   "execution_count": 178,
   "id": "ea19dc5d",
   "metadata": {},
   "outputs": [
    {
     "data": {
      "image/png": "[encoded data removed]",
      "text/plain": [
       "<Figure size 1000x600 with 1 Axes>"
      ]
     },
     "metadata": {},
     "output_type": "display_data"
    }
   ],
   "source": [
    "# Plot PCA results\n",
    "plt.figure(figsize=(10, 6))\n",
    "sns.scatterplot(data=df_pca, x=\"PC1\", y=\"PC2\", hue=\"cluster\", palette=\"Set2\", s=100, alpha=0.7)\n",
    "plt.scatter(centers[:, 0], centers[:, 1], c=\"red\", s=300, alpha=0.75, marker=\"X\")\n",
    "plt.title(\"Clustering Results After Applying PCA (Red Xs: Cluster Centroids)\")\n",
    "plt.show()"
   ]
  },
  {
   "cell_type": "markdown",
   "id": "b20f5b18",
   "metadata": {},
   "source": [
    "### Applying Apriori to clusters\n",
    "Now that our data is clustered appropriately, we can mine association rules and frequent itemsets from each cluster. This can be done by iterating through each cluster, encoding its data into transactional format, and finding the rules and itemsets."
   ]
  },
  {
   "cell_type": "code",
   "execution_count": 179,
   "id": "8f04fda2",
   "metadata": {
    "scrolled": true
   },
   "outputs": [],
   "source": [
    "from mlxtend.preprocessing import TransactionEncoder\n",
    "from mlxtend.frequent_patterns import apriori, association_rules\n",
    "\n",
    "# Define minimum support for discovery of frequent itemsets\n",
    "min_support = 0.1\n",
    "\n",
    "# Initialize TransactionEncoder\n",
    "te = TransactionEncoder()\n",
    "\n",
    "# Create storage for cluster numbers, frequent itemsets and association rules\n",
    "cluster_numbers = [0, 1, 2, 3]\n",
    "clust_data = []\n",
    "freq_itemsets = []\n",
    "assoc_rules = []\n",
    "\n",
    "# Iterate through clusters and find frequent itemsets and association rules for each\n",
    "for cluster in cluster_numbers: \n",
    "    \n",
    "    # Filter data to current cluster\n",
    "    cluster_data = df[df[\"cluster\"] == cluster].drop(\"cluster\", axis=1)\n",
    "    \n",
    "    # Encode cluster data\n",
    "    cluster_data = te.fit(cluster_data.values).transform(cluster_data.values)\n",
    "    cluster_data = pd.DataFrame(cluster_data, columns=te.columns_)\n",
    "    clust_data.append(cluster_data)\n",
    "    \n",
    "    # Find and print frequent itemsets\n",
    "    frequent_itemsets = apriori(cluster_data, min_support=min_support, use_colnames=True)\n",
    "    freq_itemsets.append(frequent_itemsets)\n",
    "    \n",
    "    # Find association rules\n",
    "    if len(frequent_itemsets) > 0: \n",
    "        rules = association_rules(frequent_itemsets, metric=\"confidence\", min_threshold=0.6)\n",
    "        assoc_rules.append(rules)"
   ]
  },
  {
   "cell_type": "markdown",
   "id": "ac2064f3",
   "metadata": {},
   "source": [
    "# Task 2.6\n",
    "<i>Run the model (make predictions).</i>\n",
    "\n",
    "We now have the encoded data, frequent itemsets, and association rules for all four clusters. For the sake of conciseness, let's take a look at a few lines of each of these datasets for cluster 0."
   ]
  },
  {
   "cell_type": "code",
   "execution_count": 180,
   "id": "4ad469f8",
   "metadata": {},
   "outputs": [
    {
     "name": "stdout",
     "output_type": "stream",
     "text": [
      "Frequent Itemsets present in cluster 0:\n",
      "     support                          itemsets\n",
      "8   0.282852       (0.0, 0.016129032258064516)\n",
      "13  0.153321         (0.0, 0.6363636363636364)\n",
      "9   0.126839        (0.0, 0.03225806451612903)\n",
      "21  0.282852  (0.0, 1.0, 0.016129032258064516)\n",
      "0   1.000000                             (0.0)\n",
      "_____________________________\n",
      "\n",
      "Association Rules for cluster 0:\n",
      "                    antecedents consequents  antecedent support  \\\n",
      "29    (0.0, 0.6363636363636364)       (1.0)            0.153321   \n",
      "15  (0.016129032258064516, 1.0)       (0.0)            0.282852   \n",
      "24    (0.4545454545454545, 1.0)       (0.0)            0.120829   \n",
      "17   (0.0, 0.03225806451612903)       (1.0)            0.126839   \n",
      "8        (0.016129032258064516)       (1.0)            0.282852   \n",
      "\n",
      "    consequent support   support  confidence  lift  leverage  conviction  \\\n",
      "29                 1.0  0.153321         1.0   1.0       0.0         inf   \n",
      "15                 1.0  0.282852         1.0   1.0       0.0         inf   \n",
      "24                 1.0  0.120829         1.0   1.0       0.0         inf   \n",
      "17                 1.0  0.126839         1.0   1.0       0.0         inf   \n",
      "8                  1.0  0.282852         1.0   1.0       0.0         inf   \n",
      "\n",
      "    zhangs_metric  \n",
      "29            0.0  \n",
      "15            0.0  \n",
      "24            0.0  \n",
      "17            0.0  \n",
      "8             0.0  \n",
      "_____________________________\n",
      "\n",
      "Encoded cluster 0 data:\n",
      "Shape: (15973, 6510)\n",
      "\n",
      "       0.000000  0.000203  0.000407  0.000610  0.000813  0.001017  0.001220  \\\n",
      "1766       True     False     False     False     False     False     False   \n",
      "6927       True     False     False     False     False     False     False   \n",
      "14972      True     False     False     False     False     False     False   \n",
      "6291       True     False     False     False     False     False     False   \n",
      "14413      True     False     False     False     False     False     False   \n",
      "\n",
      "       0.001423  0.001627  0.001830  ...  0.924312  0.927752  0.933333  \\\n",
      "1766      False     False     False  ...     False     False     False   \n",
      "6927      False     False     False  ...     False     False     False   \n",
      "14972     False     False     False  ...     False     False     False   \n",
      "6291      False     False     False  ...     False     False     False   \n",
      "14413     False     False     False  ...     False     False     False   \n",
      "\n",
      "       0.950688  0.954128  0.962156  0.966667  0.966743  1.000000  1.000000  \n",
      "1766      False     False     False     False     False     False      True  \n",
      "6927      False     False     False     False     False     False      True  \n",
      "14972     False     False     False     False     False     False      True  \n",
      "6291      False     False     False     False     False     False      True  \n",
      "14413     False     False     False     False     False     False      True  \n",
      "\n",
      "[5 rows x 6510 columns]\n"
     ]
    }
   ],
   "source": [
    "print(\"Frequent Itemsets present in cluster 0:\")\n",
    "print(freq_itemsets[0].sample(5, random_state=42))\n",
    "print(\"_____________________________\\n\")\n",
    "print(\"Association Rules for cluster 0:\")\n",
    "print(assoc_rules[0].sample(5, random_state=42))\n",
    "print(\"_____________________________\\n\")\n",
    "print(\"Encoded cluster 0 data:\")\n",
    "print(f\"Shape: {clust_data[0].shape}\\n\")\n",
    "print(clust_data[0].sample(5, random_state=42))"
   ]
  },
  {
   "cell_type": "markdown",
   "id": "7a28fd46",
   "metadata": {},
   "source": [
    "We see that the data consists of only numbers and boolean values, and is also unlabeled. The encoded cluster data contains over 6,500 columns, and this makes it impossible to map encoded columns to features in the original dataset. Thus, it is difficult to pull any specific insights from these results.\n",
    "\n",
    "However, it's clear that the frequent itemsets in cluster 0 have different support values, confirming that some features are more prevalent than others within the cluster. This suggests that the clustering provides some utility, though exactly how much is difficult to ascertain because there are no labels to work with.\n",
    "\n",
    "# Task 2.7\n",
    "<i>Display clustering results (quantitative and visual).</i>\n",
    "\n",
    "The effectiveness of the clusters can be determined using two common metrics, the silhouette score and Davies-Bouldin Index. The former measures how well data points are assigned to their clusters vs. other clusters, and a score close to 1 indicates that clusters are well-separated. The latter measures the ratio of intra-cluster distances to inter-cluster distances, and a lower value suggests better cluster separation.\n",
    "\n",
    "### Silhouette score\n",
    "* <b>Close to 1:</b> The clusters are well-fit to the data.\n",
    "* <b>Close to 0:</b> Some of the clusters are overlapping.\n",
    "* <b>Close to -1:</b> The cluster assignments are wrong."
   ]
  },
  {
   "cell_type": "code",
   "execution_count": 181,
   "id": "8453a216",
   "metadata": {},
   "outputs": [
    {
     "name": "stdout",
     "output_type": "stream",
     "text": [
      "Silhouette score: 0.297\n"
     ]
    }
   ],
   "source": [
    "from sklearn.metrics import silhouette_score\n",
    "\n",
    "# Calculate silhouette score\n",
    "sil_score = silhouette_score(df, df[\"cluster\"])\n",
    "print(f\"Silhouette score: {round(sil_score, 3)}\")"
   ]
  },
  {
   "cell_type": "markdown",
   "id": "f52e8b8d",
   "metadata": {},
   "source": [
    "### Davies-Bouldin Index"
   ]
  },
  {
   "cell_type": "code",
   "execution_count": 182,
   "id": "193e39b5",
   "metadata": {},
   "outputs": [
    {
     "name": "stdout",
     "output_type": "stream",
     "text": [
      "Davies-Bouldin Index: 1.439\n"
     ]
    }
   ],
   "source": [
    "from sklearn.metrics import davies_bouldin_score\n",
    "\n",
    "# Recompute labels\n",
    "labels = kmeans.fit_predict(df)\n",
    "\n",
    "# Compute Davies-Bouldin Index\n",
    "db_index = davies_bouldin_score(df, labels)\n",
    "print(f\"Davies-Bouldin Index: {round(db_index, 3)}\")"
   ]
  },
  {
   "cell_type": "markdown",
   "id": "0ca06947",
   "metadata": {},
   "source": [
    "Our silhouette score of $0.297$ indicates that there is significant room for improvement in the clustering assignments, since a scored close to 1 would be ideal, while the Davies-Bouldin Index suggests a moderate amount of cluster separation. Adjusting initial parameters and/or data preprocessing steps could lead to more effective clustering.\n",
    "\n",
    "# Task 2.8\n",
    "<i>Explain the meaning of each step in the context of the dataset.</i>\n",
    "\n",
    "1. <b>Data preprocessing:</b> Loading the dataset and performing preliminary processing steps like removing duplicates, handling missing values, renaming columns, normalizing numeric variables, and encoding categorical variables help convert the bank marketing data into a format suitable for k-means clustering and subsequent association rule mining.\n",
    "2. <b>Clustering:</b> Separating customers into distinct clusters helps us find unique patterns among different customer segments, improving our understanding of their behavior. \n",
    "3. <b>Encoding clusters:</b> Encoding cluster data using the `TransactionEncoder` package from the `mlxtend` library helps get the data into a transactional format with only boolean values that the Apriori algorithm can use.\n",
    "4. <b>Mining frequent itemsets and association rules:</b> Mining each cluster for frequently-occurring itemsets and association rules using the Apriori algorithm helps us understand client banking habits.\n",
    "\n",
    "# Task 2.9\n",
    "<i>Interpret results and adjust your clustering.</i>\n",
    "\n",
    "As previously mentioned, the clustering results were of moderate quality per the silhouette score and Davies-Bouldin Index calculated earlier. Adjusting the clusters would not be of much use, as repeating the encoding and association rule mining processes with the new clusters would yield the same problem of non-interpretability as with the first runthrough. Without data labels though, there is nothing to connect the itemsets and association rules to the features they reference.\n",
    "\n",
    "# Task 2.10\n",
    "<i>Validate the model, addressing support, confidence, lift, and conviction. Then, explain the results.</i>\n",
    "\n",
    "Let's take a look at the first five association rules uncovered by Apriori for cluster 1: "
   ]
  },
  {
   "cell_type": "code",
   "execution_count": 184,
   "id": "4dfda4ce",
   "metadata": {},
   "outputs": [
    {
     "name": "stdout",
     "output_type": "stream",
     "text": [
      "Association Rules for cluster 1:\n",
      "                    antecedents consequents  antecedent support  \\\n",
      "29    (0.0, 0.6363636363636364)       (1.0)            0.153321   \n",
      "15  (0.016129032258064516, 1.0)       (0.0)            0.282852   \n",
      "24    (0.4545454545454545, 1.0)       (0.0)            0.120829   \n",
      "17   (0.0, 0.03225806451612903)       (1.0)            0.126839   \n",
      "8        (0.016129032258064516)       (1.0)            0.282852   \n",
      "\n",
      "    consequent support   support  confidence  lift  leverage  conviction  \\\n",
      "29                 1.0  0.153321         1.0   1.0       0.0         inf   \n",
      "15                 1.0  0.282852         1.0   1.0       0.0         inf   \n",
      "24                 1.0  0.120829         1.0   1.0       0.0         inf   \n",
      "17                 1.0  0.126839         1.0   1.0       0.0         inf   \n",
      "8                  1.0  0.282852         1.0   1.0       0.0         inf   \n",
      "\n",
      "    zhangs_metric  \n",
      "29            0.0  \n",
      "15            0.0  \n",
      "24            0.0  \n",
      "17            0.0  \n",
      "8             0.0  \n"
     ]
    }
   ],
   "source": [
    "# Display association rules for cluster 1\n",
    "print(\"Association Rules for cluster 1:\")\n",
    "print(assoc_rules[0].sample(5, random_state=42))"
   ]
  },
  {
   "cell_type": "markdown",
   "id": "accf857f",
   "metadata": {},
   "source": [
    "For a given association rule: \n",
    "* The <b>support</b> is the proportion of transactions that contain both the antecedent (first itemset) and consequent (second itemset) of the rule. For the first rule given here (entry #29), the support is about 0.153, meaning that the itemsets (0,0, 0.63636...) and (1.0) appear together in about 15.3% of transactions within cluster 0. A higher support value means the combination of itemsets appears more often in the data.\n",
    "* The <b>confidence</b> is the probability of finding the consequent in a transaction if it is given that the antecedent is already present. A stronger confidence level means that the two itemsets are more strongly related. We see a confidence value of 1.0 in all five association rules, indicating that the consequents and antecedents are all perfectly connected, though this could also indicate an issue.\n",
    "* The <b>lift</b> is a multiplier representing how much more likely a random transaction containing itemset A is to contain itemset B compared to a transaction without itemset A in it. If an association rule has a lift of 1, then A does not make B more likely to appear, and if a rule has a lift of 1.5, then B is 1.5 times more likely to appear in a transaction containing A than in one that does not contain A. We see a lift value of 1.0 for all association rules, indicating that none of the antecedents have any effect on the likelihood of the consequent appearing. This clashes with the confidence values though, further evidence of a problem.\n",
    "* Finally, <b>conviction</b> is a metric that takes into account support for both the antecedent and consequent, avoiding the frequent problem of high confidence values associated with unrelated associations. It measures how much the rule reduces the uncertainty of finding the consequent, given that the antecedent has been found. \n",
    "\n",
    "Overall, for the data above, these four metrics indicate problems with the implementation of the Apriori implementation. A confidence of 1.0 guarantees that itemset B will be present if itemset A is, while a lift of 1.0 indicates that A does not make B more likely to appear. This presents an obvious contradiction. Thus, even if data labels were present and mapping of obtained values to features present in the original dataset were possible, the Apriori results do not make sense, meaning they are not useful for determining legitimate associations between clients of the bank."
   ]
  },
  {
   "cell_type": "markdown",
   "id": "73e729dc",
   "metadata": {},
   "source": [
    "# References\n",
    "* UCI Machine Learning Repository. (n.d.). https://archive.ics.uci.edu/dataset/222/bank+marketing\n",
    "* GeeksforGeeks. (2022, January 13). Apriori algorithm. GeeksforGeeks. https://www.geeksforgeeks.org/apriori-algorithm/\n",
    "* Tripathi, A. (2024, May 17). Apriori Algorithm in Data mining : Methods, examples, and more. Blogs & Updates on Data Science, Business Analytics, AI Machine Learning. https://www.analytixlabs.co.in/blog/apriori-algorithm-in-data-mining/\n",
    "* OpenAI. (2024). ChatGPT [Large language model]. https://chatgpt.com/\n",
    "* Google. (2024). Gemini [Large language model]. https://gemini.google.com/app"
   ]
  }
 ],
 "metadata": {
  "kernelspec": {
   "display_name": "Python 3 (ipykernel)",
   "language": "python",
   "name": "python3"
  },
  "language_info": {
   "codemirror_mode": {
    "name": "ipython",
    "version": 3
   },
   "file_extension": ".py",
   "mimetype": "text/x-python",
   "name": "python",
   "nbconvert_exporter": "python",
   "pygments_lexer": "ipython3",
   "version": "3.11.5"
  }
 },
 "nbformat": 4,
 "nbformat_minor": 5
}
